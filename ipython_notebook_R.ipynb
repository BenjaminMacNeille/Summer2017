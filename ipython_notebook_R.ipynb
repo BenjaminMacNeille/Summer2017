{
 "cells": [
  {
   "cell_type": "code",
   "execution_count": 2,
   "metadata": {
    "collapsed": false
   },
   "outputs": [
    {
     "name": "stderr",
     "output_type": "stream",
     "text": [
      "also installing the dependencies ‘rlang’, ‘assertthat’, ‘Rcpp’, ‘tibble’, ‘lazyeval’, ‘DBI’, ‘BH’\n",
      "\n",
      "Updating HTML index of packages in '.Library'\n",
      "Making 'packages.html' ... done\n"
     ]
    }
   ],
   "source": [
    "install.packages(\"dplyr\")\n"
   ]
  },
  {
   "cell_type": "code",
   "execution_count": 3,
   "metadata": {
    "collapsed": false
   },
   "outputs": [
    {
     "name": "stderr",
     "output_type": "stream",
     "text": [
      "also installing the dependencies ‘readr’, ‘hms’\n",
      "\n",
      "Updating HTML index of packages in '.Library'\n",
      "Making 'packages.html' ... done\n",
      "also installing the dependencies ‘backports’, ‘praise’, ‘checkmate’, ‘testthat’\n",
      "\n",
      "Updating HTML index of packages in '.Library'\n",
      "Making 'packages.html' ... done\n"
     ]
    }
   ],
   "source": [
    "install.packages(\"haven\")\n",
    "install.packages(\"icd\")"
   ]
  },
  {
   "cell_type": "code",
   "execution_count": 1,
   "metadata": {
    "collapsed": false
   },
   "outputs": [
    {
     "ename": "ERROR",
     "evalue": "Error in library(\"dplyr\"): there is no package called ‘dplyr’\n",
     "output_type": "error",
     "traceback": [
      "Error in library(\"dplyr\"): there is no package called ‘dplyr’\nTraceback:\n",
      "1. library(\"dplyr\")",
      "2. stop(txt, domain = NA)"
     ]
    }
   ],
   "source": [
    "library(\"dplyr\")\n",
    "library(\"haven\") #package to read stata files\n",
    "library(\"icd\")\n",
    "setwd(\"~/MEPS\")\n",
    "\n",
    "#import CY2014 Medical Conditions file \n",
    "mc14 <- read_dta(\"2014_MC.dta\") \n",
    "\n",
    "#Create flag for person IDs (i.e DUPERSID) with Crohns Disease\n",
    "crohns_marker <- mc14 %>% #pipe operator\n",
    "  mutate(crohnsICD = ifelse(ICD9CODX == \"555\", 1, 0)) %>% #555 is the diagnosis code for Crohns\n",
    "  group_by(DUPERSID) %>% #group_by precedes and informs the summarise function\n",
    "  summarise(crohns = max(crohnsICD)) %>% #DUPERSID can have more than one row (i.e. diagnosis). \n",
    "                                        ##We only care about if they have crohns or not, so a maximum (1) will suffice\n",
    "  arrange(crohns) \n",
    "\n",
    "#import CY2014 Population file\n",
    "pop14 <- read_dta(\"2014_Population.dta\")\n",
    "\n",
    "#keep only subsect of variable of interest to be used for this analysis\n",
    "base <- select(pop14, SEX, AGE14X, DUPERSID, RACEV1X, MARRY14X, \n",
    "               EDRECODE,REGION14, INSCOV14)\n",
    "\n",
    "#In SEX variable, Female originally coded as 2. Female now coded as 0\n",
    "base$SEX <- ifelse(base$SEX !=1, 0, 1) \n",
    "\n",
    "#Want to merge our base file with crohns_marker to flag DUPERSID with Crohns\n",
    "base <- left_join(base, crohns_marker, by = \"DUPERSID\")\n",
    "#However, some DUPERSID show \"NA\" because they were not in medical conditions file.\n",
    "##Therefore, these are DUPERSIDs without any diagnoses. Thus, crohns marker equals 0\n",
    "base$crohns[is.na(base$crohns)] <- 0\n",
    "\n",
    "#Previous count of chronic diseases. Counts crohns as well, so not technically cobmorbidity of crohns, but total conditions\n",
    "##I want to verify the co_count somepoint because I think the results are way too high. Make sure we aren't double counting\n",
    "comorbid <- mc14 %>%\n",
    "  select(DUPERSID, ICD9CODX) %>%\n",
    "  group_by(DUPERSID) %>%\n",
    "  summarise(co_count = n())\n",
    "\n",
    "base <- left_join(base, comorbid, by = \"DUPERSID\") #merge to base\n",
    "base$co_count[is.na(base$co_count)] <- 0 #again, some may be \"NA\" if not in mc14. These cases are converted to 0\n",
    "\n",
    "#New Charlson Comorbidity Index scoring from 'icd' package\n",
    "mc14.charlson <- mc14 %>%\n",
    "  rename(icd9cm = ICD9CODX, id = DUPERSID) %>%\n",
    "  select(id, icd9cm)\n",
    "\n",
    "charlson <- icd_charlson(mc14.charlson, short_code = TRUE, return_df = TRUE)\n",
    "charlson <- rename(charlson, DUPERSID = id) #convert back to DUPERSID so we can merge with our base file\n",
    "\n",
    "base <- left_join(base, charlson, by = \"DUPERSID\")\n",
    "base$Charlson[is.na(base$Charlson)] <- 0 #again, some may be \"NA\" if not in mc14. These cases are converted to 0\n",
    "\n",
    "#import CY2014 office-based file\n",
    "office14 <- read_dta(\"2014_Office.dta\")\n",
    "#Sum total office-based expenditures by DUPERSID\n",
    "officeXPdf <- office14 %>%\n",
    "  group_by(DUPERSID) %>%\n",
    "  summarise(officeXP = sum(OBXP14X)) \n",
    "#merge total  office-based expenditures with base file\n",
    "base <- left_join(base, officeXPdf, by = \"DUPERSID\")\n",
    "base$officeXP[is.na(base$officeXP)] <- 0\n",
    "\n",
    "#import CY2014 outpatient file\n",
    "op14 <- read_dta(\"2014_Outpatient.dta\")\n",
    "#Sum total outpatient expenditures by DUPERSID\n",
    "opXPdf <- op14 %>%\n",
    "  group_by(DUPERSID) %>%\n",
    "  summarise(opXP = sum(OPXP14X))\n",
    "#merge total  outpatient expenditures with base file\n",
    "base <- left_join(base, opXPdf, by = \"DUPERSID\")\n",
    "base$opXP[is.na(base$opXP)] <- 0\n",
    "\n",
    "#create new variable in base file (i.e. totalXP) to sum total office + outpatient expenditures\n",
    "base <- mutate(base, totalXP = officeXP + opXP)\n",
    "\n",
    "###READY TO GO GARDENING for CARETS!!!!\n"
   ]
  },
  {
   "cell_type": "code",
   "execution_count": null,
   "metadata": {
    "collapsed": true
   },
   "outputs": [],
   "source": []
  }
 ],
 "metadata": {
  "kernelspec": {
   "display_name": "R",
   "language": "R",
   "name": "ir"
  },
  "language_info": {
   "codemirror_mode": "r",
   "file_extension": ".r",
   "mimetype": "text/x-r-source",
   "name": "R",
   "pygments_lexer": "r",
   "version": "3.3.2"
  }
 },
 "nbformat": 4,
 "nbformat_minor": 1
}
