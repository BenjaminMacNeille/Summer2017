{
 "cells": [
  {
   "cell_type": "code",
   "execution_count": 2,
   "metadata": {
    "collapsed": false
   },
   "outputs": [
    {
     "name": "stderr",
     "output_type": "stream",
     "text": [
      "also installing the dependencies ‘rlang’, ‘assertthat’, ‘Rcpp’, ‘tibble’, ‘lazyeval’, ‘DBI’, ‘BH’\n",
      "\n",
      "Updating HTML index of packages in '.Library'\n",
      "Making 'packages.html' ... done\n"
     ]
    }
   ],
   "source": [
    "install.packages(\"dplyr\")\n",
    "install.packages(\"icd\")"
   ]
  },
  {
   "cell_type": "code",
   "execution_count": 2,
   "metadata": {
    "collapsed": false
   },
   "outputs": [
    {
     "name": "stderr",
     "output_type": "stream",
     "text": [
      "Welcome to the \"icd\" package for finding comorbidities and interpretation of ICD-9 and ICD-10 codes. Suggestions and contributions are welcome at https://github.com/jackwasey/icd .\n",
      "\n",
      "See the vignettes and help for examples.\n",
      "\n",
      "Please cite this package if you find it useful in your published work.\n",
      "citation(package = \"icd\")\n",
      "\n"
     ]
    }
   ],
   "source": [
    "library(\"dplyr\")\n",
    "library(\"icd\")"
   ]
  },
  {
   "cell_type": "code",
   "execution_count": 3,
   "metadata": {
    "collapsed": false
   },
   "outputs": [],
   "source": [
    "options(repr.matrix.max.cols=50, repr.matrix.max.rows=100)"
   ]
  },
  {
   "cell_type": "code",
   "execution_count": 5,
   "metadata": {
    "collapsed": false
   },
   "outputs": [
    {
     "name": "stderr",
     "output_type": "stream",
     "text": [
      "Warning message in file(file, \"rt\"):\n",
      "“cannot open file 'Data/2014 - conditions.csv': No such file or directory”"
     ]
    },
    {
     "ename": "ERROR",
     "evalue": "Error in file(file, \"rt\"): cannot open the connection\n",
     "output_type": "error",
     "traceback": [
      "Error in file(file, \"rt\"): cannot open the connection\nTraceback:\n",
      "1. read.csv(\"Data/2014 - conditions.csv\")",
      "2. read.table(file = file, header = header, sep = sep, quote = quote, \n .     dec = dec, fill = fill, comment.char = comment.char, ...)",
      "3. file(file, \"rt\")"
     ]
    }
   ],
   "source": [
    "#import CY2014 Medical Conditions file \n",
    "mc14 <- read.csv(\"Data/2014 - conditions.csv\")\n",
    "pop14 <- read.csv(\"Data/2014 - popchar.csv\")\n",
    "out14 <- read.csv(\"Data/2014 - outpatient.csv\")\n",
    "office14 <- read.csv(\"Data/2014 - office.csv\")"
   ]
  },
  {
   "cell_type": "code",
   "execution_count": 19,
   "metadata": {
    "collapsed": true
   },
   "outputs": [],
   "source": [
    "#Create flag for person IDs (i.e DUPERSID) with Crohns Disease\n",
    "crohns_marker <- mc14 %>% #pipe operator\n",
    "  mutate(crohnsICD = ifelse(ICD9CODX == \"555\", 1, 0)) %>% #555 is the diagnosis code for Crohns\n",
    "  group_by(DUPERSID) %>% #group_by precedes and informs the summarise function\n",
    "  summarise(crohns = max(crohnsICD)) %>% #DUPERSID can have more than one row (i.e. diagnosis). \n",
    "                                        ##We only care about if they have crohns or not, so a maximum (1) will suffice\n",
    "  arrange(crohns) "
   ]
  },
  {
   "cell_type": "code",
   "execution_count": 22,
   "metadata": {
    "collapsed": false
   },
   "outputs": [],
   "source": [
    "#keep only subsect of variable of interest to be used for this analysis\n",
    "base <- select(pop14, SEX, AGE14X, DUPERSID, RACEV1X, MARRY14X, \n",
    "               EDRECODE,REGION14, INSCOV14)"
   ]
  },
  {
   "cell_type": "code",
   "execution_count": 23,
   "metadata": {
    "collapsed": true
   },
   "outputs": [],
   "source": [
    "#In SEX variable, Female originally coded as 2. Female now coded as 0\n",
    "base$SEX <- ifelse(base$SEX !=1, 0, 1) \n",
    "\n",
    "#Want to merge our base file with crohns_marker to flag DUPERSID with Crohns\n",
    "base <- left_join(base, crohns_marker, by = \"DUPERSID\")\n",
    "#However, some DUPERSID show \"NA\" because they were not in medical conditions file.\n",
    "##Therefore, these are DUPERSIDs without any diagnoses. Thus, crohns marker equals 0\n",
    "base$crohns[is.na(base$crohns)] <- 0"
   ]
  },
  {
   "cell_type": "code",
   "execution_count": 31,
   "metadata": {
    "collapsed": false
   },
   "outputs": [],
   "source": [
    "#Previous count of chronic diseases. Counts crohns as well, so not technically cobmorbidity of crohns, but total conditions\n",
    "##I want to verify the co_count somepoint because I think the results are way too high. Make sure we aren't double counting\n",
    "comorbid <- mc14 %>%\n",
    "  select(DUPERSID, ICD9CODX) %>%\n",
    "  group_by(DUPERSID) %>%\n",
    "  summarise(co_count = n())\n",
    "\n",
    "base <- left_join(base, comorbid, by = \"DUPERSID\") #merge to base\n",
    "base$co_count[is.na(base$co_count)] <- 0 #again, some may be \"NA\" if not in mc14. These cases are converted to 0"
   ]
  },
  {
   "cell_type": "code",
   "execution_count": 32,
   "metadata": {
    "collapsed": false
   },
   "outputs": [
    {
     "name": "stdout",
     "output_type": "stream",
     "text": [
      "Observations: 34,875\n",
      "Variables: 12\n",
      "$ SEX        <dbl> 1, 0, 0, 1, 0, 1, 0, 0, 1, 1, 1, 1, 1, 0, 1, 1, 0, 0, 1,...\n",
      "$ AGE14X     <int> 36, 36, 15, 8, 85, 34, 32, 15, 11, 9, 4, 8, -1, 79, 47, ...\n",
      "$ DUPERSID   <int> 40001101, 40001102, 40001103, 40001104, 40002101, 400041...\n",
      "$ RACEV1X    <int> 2, 2, 2, 2, 1, 1, 1, 1, 1, 1, 1, 1, 1, 2, 6, 1, 1, 1, 1,...\n",
      "$ MARRY14X   <int> 1, 1, 6, 6, 2, 1, 1, 6, 6, 6, 6, 6, 5, 2, 5, 1, 1, 6, 6,...\n",
      "$ EDRECODE   <int> 15, 14, 1, 1, 13, 13, 2, 1, 1, 1, -1, 1, 2, 15, 2, 15, 1...\n",
      "$ REGION14   <int> 3, 3, 3, 3, 1, 3, 3, 3, 3, 3, 3, 3, -1, 3, 4, 2, 2, 2, 2...\n",
      "$ INSCOV14   <int> 1, 1, 1, 1, 1, 3, 3, 3, 2, 2, 2, 2, 3, 1, 1, 1, 1, 1, 1,...\n",
      "$ crohns     <dbl> 0, 0, 0, 0, 0, 0, 0, 0, 0, 0, 0, 0, 0, 0, 0, 0, 0, 0, 0,...\n",
      "$ co_count.x <dbl> 5, 2, 0, 1, 3, 0, 5, 1, 12, 6, 12, 12, 0, 10, 1, 2, 2, 0...\n",
      "$ co_count.y <int> 5, 2, NA, 1, 3, NA, 5, 1, 12, 6, 12, 12, NA, 10, 1, 2, 2...\n",
      "$ co_count   <dbl> 5, 2, 0, 1, 3, 0, 5, 1, 12, 6, 12, 12, 0, 10, 1, 2, 2, 0...\n"
     ]
    }
   ],
   "source": [
    "glimpse(base)"
   ]
  },
  {
   "cell_type": "code",
   "execution_count": 26,
   "metadata": {
    "collapsed": true
   },
   "outputs": [],
   "source": [
    "#New Charlson Comorbidity Index scoring from 'icd' package\n",
    "mc14.charlson <- mc14 %>%\n",
    "  rename(icd9cm = ICD9CODX, id = DUPERSID) %>%\n",
    "  select(id, icd9cm)"
   ]
  },
  {
   "cell_type": "code",
   "execution_count": 41,
   "metadata": {
    "collapsed": false
   },
   "outputs": [],
   "source": [
    "charlson <- icd_charlson(mc14.charlson, short_code = TRUE, return_df = TRUE)\n",
    "charlson <- rename(charlson, DUPERSID = id) #convert back to DUPERSID so we can merge with our base file\n",
    "charlson$DUPERSID <- as.integer(levels(charlson$DUPERSID))"
   ]
  },
  {
   "cell_type": "code",
   "execution_count": 42,
   "metadata": {
    "collapsed": false
   },
   "outputs": [
    {
     "name": "stdout",
     "output_type": "stream",
     "text": [
      "Observations: 25,870\n",
      "Variables: 2\n",
      "$ DUPERSID <int> 40001101, 40001102, 40001104, 40002101, 40004102, 40004103...\n",
      "$ Charlson <dbl> 0, 0, 0, 0, 0, 0, 1, 0, 0, 1, 0, 0, 0, 0, 0, 0, 1, 0, 1, 0...\n"
     ]
    }
   ],
   "source": [
    "glimpse(charlson)"
   ]
  },
  {
   "cell_type": "code",
   "execution_count": 43,
   "metadata": {
    "collapsed": false
   },
   "outputs": [],
   "source": [
    "base <- left_join(base, charlson, by = \"DUPERSID\")\n",
    "base$Charlson[is.na(base$Charlson)] <- 0 #again, some may be \"NA\" if not in mc14. These cases are converted to 0"
   ]
  },
  {
   "cell_type": "code",
   "execution_count": 44,
   "metadata": {
    "collapsed": true
   },
   "outputs": [],
   "source": [
    "#import CY2014 office-based file\n",
    "#office14 <- read_dta(\"2014_Office.dta\")\n",
    "#Sum total office-based expenditures by DUPERSID\n",
    "officeXPdf <- office14 %>%\n",
    "  group_by(DUPERSID) %>%\n",
    "  summarise(officeXP = sum(OBXP14X)) \n",
    "#merge total  office-based expenditures with base file\n",
    "base <- left_join(base, officeXPdf, by = \"DUPERSID\")\n",
    "base$officeXP[is.na(base$officeXP)] <- 0"
   ]
  },
  {
   "cell_type": "code",
   "execution_count": 46,
   "metadata": {
    "collapsed": false
   },
   "outputs": [
    {
     "ename": "ERROR",
     "evalue": "Error in eval(expr, envir, enclos): object 'op14' not found\n",
     "output_type": "error",
     "traceback": [
      "Error in eval(expr, envir, enclos): object 'op14' not found\nTraceback:\n",
      "1. op14 %>% group_by(DUPERSID) %>% summarise(opXP = sum(OPXP14X))",
      "2. eval(lhs, parent, parent)",
      "3. eval(expr, envir, enclos)"
     ]
    }
   ],
   "source": [
    "#import CY2014 outpatient file\n",
    "#op14 <- read_dta(\"2014_Outpatient.dta\")\n",
    "#Sum total outpatient expenditures by DUPERSID\n",
    "opXPdf <- op14 %>%\n",
    "  group_by(DUPERSID) %>%\n",
    "  summarise(opXP = sum(OPXP14X))\n",
    "#merge total  outpatient expenditures with base file\n",
    "base <- left_join(base, opXPdf, by = \"DUPERSID\")\n",
    "base$opXP[is.na(base$opXP)] <- 0\n",
    "\n",
    "#create new variable in base file (i.e. totalXP) to sum total office + outpatient expenditures\n",
    "base <- mutate(base, totalXP = officeXP + opXP)\n",
    "\n",
    "###READY TO GO GARDENING for CARETS!!!!"
   ]
  },
  {
   "cell_type": "code",
   "execution_count": null,
   "metadata": {
    "collapsed": true
   },
   "outputs": [],
   "source": []
  }
 ],
 "metadata": {
  "kernelspec": {
   "display_name": "R",
   "language": "R",
   "name": "ir"
  },
  "language_info": {
   "codemirror_mode": "r",
   "file_extension": ".r",
   "mimetype": "text/x-r-source",
   "name": "R",
   "pygments_lexer": "r",
   "version": "3.3.2"
  }
 },
 "nbformat": 4,
 "nbformat_minor": 1
}
