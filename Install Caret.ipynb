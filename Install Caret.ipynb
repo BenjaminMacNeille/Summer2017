{
 "cells": [
  {
   "cell_type": "code",
   "execution_count": null,
   "metadata": {
    "collapsed": false
   },
   "outputs": [],
   "source": [
    "#install.packages(\"caret\")"
   ]
  },
  {
   "cell_type": "code",
   "execution_count": 8,
   "metadata": {
    "collapsed": false
   },
   "outputs": [
    {
     "name": "stderr",
     "output_type": "stream",
     "text": [
      "\n",
      "Attaching package: ‘dplyr’\n",
      "\n",
      "The following objects are masked from ‘package:stats’:\n",
      "\n",
      "    filter, lag\n",
      "\n",
      "The following objects are masked from ‘package:base’:\n",
      "\n",
      "    intersect, setdiff, setequal, union\n",
      "\n"
     ]
    }
   ],
   "source": [
    "library(\"dplyr\")"
   ]
  },
  {
   "cell_type": "code",
   "execution_count": 10,
   "metadata": {
    "collapsed": false
   },
   "outputs": [],
   "source": [
    "library(\"caret\")"
   ]
  },
  {
   "cell_type": "code",
   "execution_count": 4,
   "metadata": {
    "collapsed": true
   },
   "outputs": [],
   "source": [
    "set.seed(7)"
   ]
  },
  {
   "cell_type": "code",
   "execution_count": null,
   "metadata": {
    "collapsed": true
   },
   "outputs": [],
   "source": [
    "# load the dataset\n",
    "dataframe <- read.csv(\"Crohns_DF.csv\")"
   ]
  },
  {
   "cell_type": "code",
   "execution_count": 9,
   "metadata": {
    "collapsed": false
   },
   "outputs": [
    {
     "name": "stdout",
     "output_type": "stream",
     "text": [
      "Observations: 34,875\n",
      "Variables: 15\n",
      "$ X        <int> 1, 2, 3, 4, 5, 6, 7, 8, 9, 10, 11, 12, 13, 14, 15, 16, 17,...\n",
      "$ SEX      <int> 1, 0, 0, 1, 0, 1, 0, 0, 1, 1, 1, 1, 1, 0, 1, 1, 0, 0, 1, 1...\n",
      "$ AGE14X   <int> 36, 36, 15, 8, 85, 34, 32, 15, 11, 9, 4, 8, -1, 79, 47, 35...\n",
      "$ DUPERSID <int> 40001101, 40001102, 40001103, 40001104, 40002101, 40004101...\n",
      "$ RACEV1X  <int> 2, 2, 2, 2, 1, 1, 1, 1, 1, 1, 1, 1, 1, 2, 6, 1, 1, 1, 1, 2...\n",
      "$ MARRY14X <int> 1, 1, 6, 6, 2, 1, 1, 6, 6, 6, 6, 6, 5, 2, 5, 1, 1, 6, 6, 5...\n",
      "$ EDRECODE <int> 15, 14, 1, 1, 13, 13, 2, 1, 1, 1, -1, 1, 2, 15, 2, 15, 16,...\n",
      "$ REGION14 <int> 3, 3, 3, 3, 1, 3, 3, 3, 3, 3, 3, 3, -1, 3, 4, 2, 2, 2, 2, ...\n",
      "$ INSCOV14 <int> 1, 1, 1, 1, 1, 3, 3, 3, 2, 2, 2, 2, 3, 1, 1, 1, 1, 1, 1, 3...\n",
      "$ crohns   <int> 0, 0, 0, 0, 0, 0, 0, 0, 0, 0, 0, 0, 0, 0, 0, 0, 0, 0, 0, 0...\n",
      "$ co_count <int> 5, 2, 0, 1, 3, 0, 5, 1, 12, 6, 12, 12, 0, 10, 1, 2, 2, 0, ...\n",
      "$ Charlson <int> 0, 0, 0, 0, 0, 0, 0, 0, 1, 0, 0, 1, 0, 0, 0, 0, 0, 0, 0, 0...\n",
      "$ officeXP <dbl> 762.06, 275.06, 115.91, 92.00, 82.97, 0.00, 31.07, 120.51,...\n",
      "$ opXP     <dbl> 0.00, 402.26, 0.00, 0.00, 0.00, 0.00, 0.00, 0.00, 0.00, 0....\n",
      "$ totalXP  <dbl> 762.06, 677.32, 115.91, 92.00, 82.97, 0.00, 31.07, 120.51,...\n"
     ]
    }
   ],
   "source": [
    "glimpse(dataframe)"
   ]
  },
  {
   "cell_type": "code",
   "execution_count": null,
   "metadata": {
    "collapsed": false
   },
   "outputs": [
    {
     "name": "stderr",
     "output_type": "stream",
     "text": [
      "Loading required package: randomForest\n",
      "randomForest 4.6-12\n",
      "Type rfNews() to see new features/changes/bug fixes.\n",
      "\n",
      "Attaching package: ‘randomForest’\n",
      "\n",
      "The following object is masked from ‘package:dplyr’:\n",
      "\n",
      "    combine\n",
      "\n",
      "The following object is masked from ‘package:ggplot2’:\n",
      "\n",
      "    margin\n",
      "\n"
     ]
    }
   ],
   "source": [
    "# prepare training scheme\n",
    "control <- trainControl(method=\"repeatedcv\", number=10, repeats=3)\n",
    "# train the model\n",
    "model <- train(totalXP~., data=dataframe, method=\"rf\", trControl=control, tuneLength=5)"
   ]
  },
  {
   "cell_type": "code",
   "execution_count": 6,
   "metadata": {
    "collapsed": false
   },
   "outputs": [],
   "source": [
    "# summarize the model\n",
    "#print(model)\n",
    "# ensure results are repeatable\n",
    "#set.seed(7)\n",
    "# load the library\n",
    "#library(caret)\n",
    "# load the dataset\n",
    "#data(iris)\n",
    "# prepare training scheme\n",
    "#control <- trainControl(method=\"repeatedcv\", number=10, repeats=3)\n",
    "# train the model\n",
    "#model <- train(Species~., data=iris, method=\"lvq\", trControl=control, tuneLength=5)\n",
    "# summarize the model\n",
    "#print(model)"
   ]
  },
  {
   "cell_type": "code",
   "execution_count": 2,
   "metadata": {
    "collapsed": false
   },
   "outputs": [
    {
     "name": "stderr",
     "output_type": "stream",
     "text": [
      "Warning message in install.packages(\"minqa\", dependencies = c(\"Depends\", \"Suggests\")):\n",
      "“installation of package ‘minqa’ had non-zero exit status”Updating HTML index of packages in '.Library'\n",
      "Making 'packages.html' ... done\n"
     ]
    }
   ],
   "source": [
    "#install.packages(\"minqa\", dependencies = c(\"Depends\", \"Suggests\"))"
   ]
  },
  {
   "cell_type": "code",
   "execution_count": null,
   "metadata": {
    "collapsed": false
   },
   "outputs": [],
   "source": [
    "#library(\"minqa\")"
   ]
  },
  {
   "cell_type": "code",
   "execution_count": null,
   "metadata": {
    "collapsed": false
   },
   "outputs": [],
   "source": [
    "#install.packages(\"caret\", dependencies = c(\"Depends\", \"Suggests\"))"
   ]
  },
  {
   "cell_type": "code",
   "execution_count": null,
   "metadata": {
    "collapsed": true
   },
   "outputs": [],
   "source": [
    "#library(\"caret\")"
   ]
  },
  {
   "cell_type": "code",
   "execution_count": null,
   "metadata": {
    "collapsed": true
   },
   "outputs": [],
   "source": []
  }
 ],
 "metadata": {
  "anaconda-cloud": {},
  "kernelspec": {
   "display_name": "R",
   "language": "R",
   "name": "ir"
  },
  "language_info": {
   "codemirror_mode": "r",
   "file_extension": ".r",
   "mimetype": "text/x-r-source",
   "name": "R",
   "pygments_lexer": "r",
   "version": "3.3.2"
  }
 },
 "nbformat": 4,
 "nbformat_minor": 1
}
